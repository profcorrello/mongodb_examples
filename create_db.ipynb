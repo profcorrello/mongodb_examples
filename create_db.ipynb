{
 "cells": [
  {
   "cell_type": "code",
   "execution_count": null,
   "metadata": {},
   "outputs": [],
   "source": [
    "from pymongo import MongoClient\n",
    "import pandas as pd\n",
    "\n",
    "password = \"password\"\n",
    "\n",
    "# Get the values for the password from an external file\n",
    "with open(\"/media/clay/T7 Shield/p_drive/projects/password.txt\", \"r\") as file:\n",
    "    password = file.read().strip()\n"
   ]
  },
  {
   "cell_type": "code",
   "execution_count": null,
   "metadata": {},
   "outputs": [],
   "source": [
    "\n",
    "connection_string = 'mongodb+srv://ccorrello:' + password + '@teachingcluster.cwult.mongodb.net/'\n",
    "client = MongoClient(connection_string)"
   ]
  },
  {
   "cell_type": "code",
   "execution_count": null,
   "metadata": {},
   "outputs": [],
   "source": [
    "import sqlite3\n",
    "\n",
    "# Connect to the local SQLite database\n",
    "conn = sqlite3.connect('/home/clay/apps/sqlite/library_app.db')\n",
    "\n",
    "# Read all elements in the 'books' table into a pandas dataframe\n",
    "books_df = pd.read_sql_query(\"SELECT * FROM books\", conn)\n",
    "members_df = pd.read_sql_query(\"SELECT * FROM library_members\", conn)\n",
    "# Close the connection\n",
    "conn.close()\n",
    "\n",
    "# Display the dataframe\n",
    "books_df"
   ]
  },
  {
   "cell_type": "code",
   "execution_count": null,
   "metadata": {},
   "outputs": [],
   "source": [
    "members_df\n"
   ]
  },
  {
   "cell_type": "code",
   "execution_count": null,
   "metadata": {},
   "outputs": [],
   "source": [
    "# create a new database called 'library' in the MongoDB cluster\n",
    "db = client['library']\n",
    "\n",
    "# create a new collection called 'books' in the 'library' database\n",
    "books_collection = db['books']\n",
    "\n",
    "# convert the dataframe to a dictionary and insert it into the 'books' collection\n",
    "books_collection.insert_many(books_df.to_dict('records'))\n",
    "\n",
    "# create a new collection called 'members' in the 'library' database\n",
    "members_collection = db['members']\n",
    "\n",
    "# convert the dataframe to a dictionary and insert it into the 'members' collection\n",
    "members_collection.insert_many(members_df.to_dict('records'))\n",
    "\n",
    "# Display the documents in the 'books' collection\n",
    "for book in books_collection.find():\n",
    "    print(book)\n",
    "\n",
    "# Display the documents in the 'members' collection\n",
    "for member in members_collection.find():\n",
    "    print(member)\n",
    "    "
   ]
  },
  {
   "cell_type": "code",
   "execution_count": null,
   "metadata": {},
   "outputs": [],
   "source": [
    "# find all books with the title 'The Great Gatsby'\n",
    "for book in books_collection.find({'Book Title': 'The Great Gatsby'}):\n",
    "    print(book)\n",
    "    \n"
   ]
  },
  {
   "cell_type": "code",
   "execution_count": null,
   "metadata": {},
   "outputs": [],
   "source": [
    "# Combine 'Author First Name' and 'Author Last Name' to create the full name\n",
    "author_full_name = 'F. Scott Fitzgerald'\n",
    "\n",
    "# Find the book by the author's full name\n",
    "for book in books_collection.find({'$expr': {'$eq': [{'$concat': ['$Author First Name', ' ', '$Author Last Name']}, author_full_name]}}):\n",
    "    print(book)"
   ]
  },
  {
   "cell_type": "code",
   "execution_count": 12,
   "metadata": {},
   "outputs": [],
   "source": [
    "# drop the 'books' collection\n",
    "books_collection.drop()\n",
    "\n",
    "# drop the 'members' collection\n",
    "members_collection.drop()\n",
    "\n",
    "# drop the 'library' database\n",
    "client.drop_database('library')\n",
    "\n",
    "# close the connection\n",
    "client.close()"
   ]
  }
 ],
 "metadata": {
  "kernelspec": {
   "display_name": "usr",
   "language": "python",
   "name": "python3"
  },
  "language_info": {
   "codemirror_mode": {
    "name": "ipython",
    "version": 3
   },
   "file_extension": ".py",
   "mimetype": "text/x-python",
   "name": "python",
   "nbconvert_exporter": "python",
   "pygments_lexer": "ipython3",
   "version": "3.12.3"
  }
 },
 "nbformat": 4,
 "nbformat_minor": 2
}
